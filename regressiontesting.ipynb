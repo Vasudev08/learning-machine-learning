{
  "cells": [
    {
      "cell_type": "markdown",
      "metadata": {
        "id": "view-in-github",
        "colab_type": "text"
      },
      "source": [
        "<a href=\"https://colab.research.google.com/github/Vasudev08/learning-machine-learning/blob/main/regressiontesting.ipynb\" target=\"_parent\"><img src=\"https://colab.research.google.com/assets/colab-badge.svg\" alt=\"Open In Colab\"/></a>"
      ]
    },
    {
      "cell_type": "code",
      "execution_count": 1,
      "id": "c0b8d3c0",
      "metadata": {
        "id": "c0b8d3c0",
        "outputId": "76e2673f-dc17-4369-ad48-5a138f88a047",
        "colab": {
          "base_uri": "https://localhost:8080/"
        }
      },
      "outputs": [
        {
          "output_type": "stream",
          "name": "stdout",
          "text": [
            "Testing\n"
          ]
        }
      ],
      "source": [
        "print(\"Testing\")"
      ]
    },
    {
      "cell_type": "code",
      "source": [
        "print(\"This is me editing in google colab\")"
      ],
      "metadata": {
        "id": "plCAYbcmsJmH",
        "outputId": "d466e64f-6587-40b5-8b75-7b3a5c71337a",
        "colab": {
          "base_uri": "https://localhost:8080/"
        }
      },
      "id": "plCAYbcmsJmH",
      "execution_count": null,
      "outputs": [
        {
          "output_type": "stream",
          "name": "stdout",
          "text": [
            "This is me editing in google colab\n"
          ]
        }
      ]
    },
    {
      "cell_type": "code",
      "source": [
        "print(\"Testing again pelase\")"
      ],
      "metadata": {
        "id": "SFsMQgsGsNW6",
        "colab": {
          "base_uri": "https://localhost:8080/"
        },
        "outputId": "78758d67-8846-4506-fb40-3494169dfc39"
      },
      "id": "SFsMQgsGsNW6",
      "execution_count": null,
      "outputs": [
        {
          "output_type": "stream",
          "name": "stdout",
          "text": [
            "Testing again pelase\n"
          ]
        }
      ]
    },
    {
      "cell_type": "code",
      "source": [
        "print(\"testing the cntol + s\")"
      ],
      "metadata": {
        "id": "CW5xwIia0Gl_",
        "outputId": "4839a815-1894-4003-97ad-b0d00b0d163a",
        "colab": {
          "base_uri": "https://localhost:8080/"
        }
      },
      "id": "CW5xwIia0Gl_",
      "execution_count": 2,
      "outputs": [
        {
          "output_type": "stream",
          "name": "stdout",
          "text": [
            "testing the cntol + s\n"
          ]
        }
      ]
    },
    {
      "cell_type": "code",
      "source": [],
      "metadata": {
        "id": "ECJao1410IrX"
      },
      "id": "ECJao1410IrX",
      "execution_count": null,
      "outputs": []
    }
  ],
  "metadata": {
    "kernelspec": {
      "display_name": "venv",
      "language": "python",
      "name": "python3"
    },
    "language_info": {
      "name": "python",
      "version": "3.11.4"
    },
    "colab": {
      "provenance": [],
      "include_colab_link": true
    }
  },
  "nbformat": 4,
  "nbformat_minor": 5
}