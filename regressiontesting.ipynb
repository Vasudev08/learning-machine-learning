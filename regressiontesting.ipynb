{
  "cells": [
    {
      "cell_type": "markdown",
      "metadata": {
        "id": "view-in-github",
        "colab_type": "text"
      },
      "source": [
        "<a href=\"https://colab.research.google.com/github/Vasudev08/learning-machine-learning/edit/main/regressiontesting.ipynb?authuser=1\" target=\"_parent\"><img src=\"https://colab.research.google.com/assets/colab-badge.svg\" alt=\"Open In Colab\"/></a>"
      ]
    },
    {
      "cell_type": "code",
      "execution_count": null,
      "id": "c0b8d3c0",
      "metadata": {
        "id": "c0b8d3c0",
        "outputId": "7ea9720d-1616-45f3-83c1-8da0a48f3baf",
        "colab": {
          "base_uri": "https://localhost:8080/"
        }
      },
      "outputs": [
        {
          "output_type": "stream",
          "name": "stdout",
          "text": [
            "Testing\n"
          ]
        }
      ],
      "source": [
        "print(\"Testing\")"
      ]
    },
    {
      "cell_type": "code",
      "source": [
        "print(\"This is me editing in google colab\")"
      ],
      "metadata": {
        "id": "plCAYbcmsJmH",
        "outputId": "d466e64f-6587-40b5-8b75-7b3a5c71337a",
        "colab": {
          "base_uri": "https://localhost:8080/"
        }
      },
      "id": "plCAYbcmsJmH",
      "execution_count": null,
      "outputs": [
        {
          "output_type": "stream",
          "name": "stdout",
          "text": [
            "This is me editing in google colab\n"
          ]
        }
      ]
    },
    {
      "cell_type": "code",
      "source": [
        "print(\"Testing again pelase\")"
      ],
      "metadata": {
        "id": "SFsMQgsGsNW6",
        "colab": {
          "base_uri": "https://localhost:8080/"
        },
        "outputId": "78758d67-8846-4506-fb40-3494169dfc39"
      },
      "id": "SFsMQgsGsNW6",
      "execution_count": null,
      "outputs": [
        {
          "output_type": "stream",
          "name": "stdout",
          "text": [
            "Testing again pelase\n"
          ]
        }
      ]
    }
  ],
  "metadata": {
    "kernelspec": {
      "display_name": "venv",
      "language": "python",
      "name": "python3"
    },
    "language_info": {
      "name": "python",
      "version": "3.11.4"
    },
    "colab": {
      "provenance": [],
      "include_colab_link": true
    }
  },
  "nbformat": 4,
  "nbformat_minor": 5
}
