{
 "cells": [
  {
   "cell_type": "code",
   "execution_count": null,
   "id": "c0b8d3c0",
   "metadata": {},
   "outputs": [],
   "source": [
    "print(\"Testing\")"
   ]
  }
 ],
 "metadata": {
  "kernelspec": {
   "display_name": "venv",
   "language": "python",
   "name": "python3"
  },
  "language_info": {
   "name": "python",
   "version": "3.11.4"
  }
 },
 "nbformat": 4,
 "nbformat_minor": 5
}
